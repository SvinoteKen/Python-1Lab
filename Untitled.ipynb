{
 "cells": [
  {
   "cell_type": "raw",
   "metadata": {},
   "source": [
    "Напишите скрипт, который преобразует введенное с клавиатуры вещественное число в денежный формат. Например, число 12,5 должно быть преобразовано к виду «12 руб. 50 коп.». В случае ввода отрицательного числа выдайте сообщение «Некорректный формат!» путем обработки исключения в коде."
   ]
  },
  {
   "cell_type": "code",
   "execution_count": 52,
   "metadata": {},
   "outputs": [
    {
     "name": "stdin",
     "output_type": "stream",
     "text": [
      "Money:  12.99\n"
     ]
    },
    {
     "name": "stdout",
     "output_type": "stream",
     "text": [
      "12  руб. 99  коп.\n"
     ]
    }
   ],
   "source": [
    "x = float (input (\"Money: \"))\n",
    "if x>0:\n",
    "   y = int (x)\n",
    "   z = round ((x-y)*100)\n",
    "   print (y,\" руб.\",z,\" коп.\")\n",
    "else:\n",
    "   print (\"Некорректный формат!\")"
   ]
  },
  {
   "cell_type": "raw",
   "metadata": {},
   "source": [
    "Написать скрипт, который выводит на экран «True», если элементы программно задаваемого списка представляют собой возрастающую последовательность, иначе – «False»"
   ]
  },
  {
   "cell_type": "code",
   "execution_count": 15,
   "metadata": {},
   "outputs": [
    {
     "name": "stdout",
     "output_type": "stream",
     "text": [
      "True\n"
     ]
    }
   ],
   "source": [
    "b=True\n",
    "nums = [1,2,3,4,5,6,7,8,9,10]\n",
    "if nums!=sorted(nums):\n",
    "    b=False\n",
    "#for i in range(1, len(nums)):\n",
    "#   if nums[i]<nums[i-1]:\n",
    "#       b=False\n",
    "#       break\n",
    "print(b)"
   ]
  },
  {
   "cell_type": "raw",
   "metadata": {},
   "source": [
    "Напишите скрипт, который позволяет ввести с клавиатуры номер дебетовой карты (16 цифр) и выводит номер в скрытом виде: первые и последние 4 цифры отображены нормально, а между ними – символы «*» (например, 5123 1212)"
   ]
  },
  {
   "cell_type": "code",
   "execution_count": 17,
   "metadata": {},
   "outputs": [
    {
     "name": "stdin",
     "output_type": "stream",
     "text": [
      "Card: 0000111122223333\n"
     ]
    },
    {
     "name": "stdout",
     "output_type": "stream",
     "text": [
      "0000 **** **** 3333\n"
     ]
    }
   ],
   "source": [
    "card = input(\"Card:\")\n",
    "print(card[:4],\"**** ****\",card[12:])"
   ]
  },
  {
   "cell_type": "raw",
   "metadata": {},
   "source": [
    "Напишите скрипт, который разделяет введенный с клавиатуры текст на слова и выводит сначала те слова, длина которых превосходит 7 символов, затем слова размером от 4 до 7 символов, затем – все остальные"
   ]
  },
  {
   "cell_type": "code",
   "execution_count": 27,
   "metadata": {},
   "outputs": [
    {
     "name": "stdin",
     "output_type": "stream",
     "text": [
      "Введите текст:  gddg gfdg jtyututyutuiy uytuytuttu\n"
     ]
    },
    {
     "name": "stdout",
     "output_type": "stream",
     "text": [
      "jtyututyutuiy uytuytuttu gddg gfdg\n"
     ]
    }
   ],
   "source": [
    "text = input(\"Введите текст: \")\n",
    "\n",
    "words = text.split()\n",
    "words.sort(key=len, reverse=True)\n",
    "print(\" \".join(words))"
   ]
  },
  {
   "cell_type": "raw",
   "metadata": {},
   "source": [
    "Напишите скрипт, который позволяет ввести с клавиатуры текст предложения и сформировать новую строку на основе исходной, в которой все слова, начинающиеся с большой буквы, приведены к верхнему регистру. Слова могут разделяться запятыми или пробелами. Например, если пользователь введет строку «город Донецк, река Кальмиус», результирующая строка должна выглядеть так: «город ДОНЕЦК, река КАЛЬМИУС»"
   ]
  },
  {
   "cell_type": "code",
   "execution_count": 3,
   "metadata": {},
   "outputs": [
    {
     "name": "stdout",
     "output_type": "stream",
     "text": [
      "город ДОНЕЦК, река КАЛЬМИУС\n"
     ]
    }
   ],
   "source": [
    "str = \"город ДОНЕЦК, река КАЛЬМИУС\"\n",
    "wrd=str.split()\n",
    "for i,w in enumerate(wrd):\n",
    "    if w[0].isupper():\n",
    "        wrd[i]=w.upper()\n",
    "print(\" \".join(wrd))\n",
    "    "
   ]
  },
  {
   "cell_type": "raw",
   "metadata": {},
   "source": [
    "Напишите программу, позволяющую ввести с клавиатуры текст предложения и вывести на консоль все символы, которые входят в этот текст ровно по одному разу"
   ]
  },
  {
   "cell_type": "code",
   "execution_count": 4,
   "metadata": {},
   "outputs": [
    {
     "name": "stdin",
     "output_type": "stream",
     "text": [
      " Привет я стас \n"
     ]
    },
    {
     "name": "stdout",
     "output_type": "stream",
     "text": [
      "['П', 'р', 'и', 'в', 'е', 'я', 'а']\n"
     ]
    }
   ],
   "source": [
    "str=input()\n",
    "print(list(filter(lambda x: x.isalpha() and str.count(x) == 1, str)))"
   ]
  },
  {
   "cell_type": "raw",
   "metadata": {},
   "source": [
    "Напишите скрипт, который обрабатывает список строк-адресов следующим образом: сначала определяет, начинается ли каждая строка в списке с префикса «www». Если условие выполняется, то скрипт должен вставить в начало этой строки префикс «http://», а затем проверить, что строка заканчивается на «.com». Если у строки другое окончание, то скрипт должен вставить в конец подстроку «.com». В итоге скрипт должен вывести на консоль новый список с измененными адресами. Используйте генераторы списков"
   ]
  },
  {
   "cell_type": "code",
   "execution_count": 9,
   "metadata": {},
   "outputs": [
    {
     "name": "stdout",
     "output_type": "stream",
     "text": [
      "http://www.fsdff.com, fsdfsf.com, http://www.fdsf.com, fsfsffd\n"
     ]
    }
   ],
   "source": [
    "def add(a):\n",
    "        if a.startswith('www.'):\n",
    "            a = 'http://' + a\n",
    "            if not a.endswith('.com'):\n",
    "                a += '.com'\n",
    "        return a\n",
    "\n",
    "address=[\"www.fsdff\",\"fsdfsf.com\",\"www.fdsf.com\",\"fsfsffd\"]\n",
    "print(\", \".join(list(map(lambda x: add(x), address))))"
   ]
  },
  {
   "cell_type": "raw",
   "metadata": {},
   "source": [
    "Напишите скрипт, генерирующий случайным образом число n в диапазоне от 1 до 10000. Скрипт должен создать массив из n целых чисел, также сгенерированных случайным образом, и дополнить массив нулями до размера, равного ближайшей сверху степени двойки. Например, если в массиве было n=100 элементов, то массив нужно дополнить 28 нулями, чтобы в итоге был массив из 28 =128 элементов (ближайшая степень двойки к 100 – это число 128, к 35 – это 64 и т.д.)"
   ]
  },
  {
   "cell_type": "code",
   "execution_count": 77,
   "metadata": {},
   "outputs": [
    {
     "name": "stdout",
     "output_type": "stream",
     "text": [
      "281  512\n",
      "[0, 1, 2, 3, 4, 5, 6, 7, 8, 9, 10, 11, 12, 13, 14, 15, 16, 17, 18, 19, 20, 21, 22, 23, 24, 25, 26, 27, 28, 29, 30, 31, 32, 33, 34, 35, 36, 37, 38, 39, 40, 41, 42, 43, 44, 45, 46, 47, 48, 49, 50, 51, 52, 53, 54, 55, 56, 57, 58, 59, 60, 61, 62, 63, 64, 65, 66, 67, 68, 69, 70, 71, 72, 73, 74, 75, 76, 77, 78, 79, 80, 81, 82, 83, 84, 85, 86, 87, 88, 89, 90, 91, 92, 93, 94, 95, 96, 97, 98, 99, 100, 101, 102, 103, 104, 105, 106, 107, 108, 109, 110, 111, 112, 113, 114, 115, 116, 117, 118, 119, 120, 121, 122, 123, 124, 125, 126, 127, 128, 129, 130, 131, 132, 133, 134, 135, 136, 137, 138, 139, 140, 141, 142, 143, 144, 145, 146, 147, 148, 149, 150, 151, 152, 153, 154, 155, 156, 157, 158, 159, 160, 161, 162, 163, 164, 165, 166, 167, 168, 169, 170, 171, 172, 173, 174, 175, 176, 177, 178, 179, 180, 181, 182, 183, 184, 185, 186, 187, 188, 189, 190, 191, 192, 193, 194, 195, 196, 197, 198, 199, 200, 201, 202, 203, 204, 205, 206, 207, 208, 209, 210, 211, 212, 213, 214, 215, 216, 217, 218, 219, 220, 221, 222, 223, 224, 225, 226, 227, 228, 229, 230, 231, 232, 233, 234, 235, 236, 237, 238, 239, 240, 241, 242, 243, 244, 245, 246, 247, 248, 249, 250, 251, 252, 253, 254, 255, 256, 257, 258, 259, 260, 261, 262, 263, 264, 265, 266, 267, 268, 269, 270, 271, 272, 273, 274, 275, 276, 277, 278, 279, 280, 0, 0, 0, 0, 0, 0, 0, 0, 0, 0, 0, 0, 0, 0, 0, 0, 0, 0, 0, 0, 0, 0, 0, 0, 0, 0, 0, 0, 0, 0, 0, 0, 0, 0, 0, 0, 0, 0, 0, 0, 0, 0, 0, 0, 0, 0, 0, 0, 0, 0, 0, 0, 0, 0, 0, 0, 0, 0, 0, 0, 0, 0, 0, 0, 0, 0, 0, 0, 0, 0, 0, 0, 0, 0, 0, 0, 0, 0, 0, 0, 0, 0, 0, 0, 0, 0, 0, 0, 0, 0, 0, 0, 0, 0, 0, 0, 0, 0, 0, 0, 0, 0, 0, 0, 0, 0, 0, 0, 0, 0, 0, 0, 0, 0, 0, 0, 0, 0, 0, 0, 0, 0, 0, 0, 0, 0, 0, 0, 0, 0, 0, 0, 0, 0, 0, 0, 0, 0, 0, 0, 0, 0, 0, 0, 0, 0, 0, 0, 0, 0, 0, 0, 0, 0, 0, 0, 0, 0, 0, 0, 0, 0, 0, 0, 0, 0, 0, 0, 0, 0, 0, 0, 0, 0, 0, 0, 0, 0, 0, 0, 0, 0, 0, 0, 0, 0, 0, 0, 0, 0, 0, 0, 0, 0, 0, 0, 0, 0, 0, 0, 0, 0, 0, 0, 0, 0, 0, 0, 0, 0, 0, 0, 0, 0, 0, 0, 0, 0, 0, 0, 0, 0, 0, 0, 0, 0, 0, 0, 0, 0, 0]\n"
     ]
    }
   ],
   "source": [
    "n = random.randrange(1, 10000)\n",
    "i = math.ceil(math.log(n, 2))\n",
    "list = [i for i in range(n)]\n",
    "while len(list) < 2**i:\n",
    "    list.append(0)\n",
    "print(n,\"\",2**i)\n",
    "print(list)\n"
   ]
  },
  {
   "cell_type": "raw",
   "metadata": {},
   "source": [
    "Напишите программу, имитирующую работу банкомата. Выберите структуру данных для хранения купюр разного достоинства в заданном количестве. При вводе пользователем запрашиваемой суммы денег, скрипт должен вывести на консоль количество купюр подходящего достоинства. Если имеющихся денег не хватает, то необходимо напечатать сообщение «Операция не может быть выполнена!». Например, при сумме 5370 рублей на консоль должно быть выведено «5*1000 + 3*100 + 1*50 + 2*10»"
   ]
  },
  {
   "cell_type": "code",
   "execution_count": 109,
   "metadata": {},
   "outputs": [
    {
     "name": "stdin",
     "output_type": "stream",
     "text": [
      "Сумма: 10690\n"
     ]
    },
    {
     "name": "stdout",
     "output_type": "stream",
     "text": [
      "10*1000 5*100 3*50 4*10 "
     ]
    }
   ],
   "source": [
    "bank={1000: 10, 100: 5, 50: 3, 10: 8}\n",
    "money=int (input(\"Сумма:\"))\n",
    "res = []\n",
    "for banknote, amount in bank.items():\n",
    "    if money < banknote * amount and not amount == 0:\n",
    "        amount = money // banknote\n",
    "    elif amount == 0:\n",
    "        continue\n",
    "    money -= banknote * amount\n",
    "    res.append((amount, banknote))\n",
    "    bank[banknote] = bank.get(banknote) - amount\n",
    "\n",
    "if money == 0:\n",
    "    for i, j in res:\n",
    "        if i==0:\n",
    "            continue\n",
    "        print(f'{i}*{j}', end=' ')\n",
    "else: \n",
    "    print('Операция не может быть выполнена!')"
   ]
  },
  {
   "cell_type": "raw",
   "metadata": {},
   "source": [
    "Напишите скрипт, позволяющий определить надежность вводимого пользователем пароля. Это задание является творческим: алгоритм определения надежности разработайте самостоятельно"
   ]
  },
  {
   "cell_type": "code",
   "execution_count": 14,
   "metadata": {},
   "outputs": [
    {
     "name": "stdin",
     "output_type": "stream",
     "text": [
      "Пароль: Stas1337\n"
     ]
    },
    {
     "name": "stdout",
     "output_type": "stream",
     "text": [
      "Сильный\n"
     ]
    }
   ],
   "source": [
    "password = input(\"Пароль:\")\n",
    "upper_case = 0\n",
    "lower_case = 0\n",
    "number = 0\n",
    "\n",
    "for i in password:\n",
    "    if i.isupper():\n",
    "        upper_case = 1\n",
    "    elif i.islower():\n",
    "        lower_case = 1\n",
    "    elif i.isdigit():\n",
    "        number = 1\n",
    "diff=upper_case+lower_case+number\n",
    "if 8<=len (password):\n",
    "    diff+=1\n",
    "if diff==4:\n",
    "    print(\"Сильный\")\n",
    "elif 1<diff<4:\n",
    "    print(\"Средний\")\n",
    "else:\n",
    "    print(\"Слабый\")"
   ]
  },
  {
   "cell_type": "raw",
   "metadata": {},
   "source": [
    "Напишите генератор frange как аналог range() с дробным шагом. Пример вызова:\n",
    "for x in frange(1, 5, 0.1): print(x) выводит 1 1.1 1.2 1.3 1.4 … 4.9"
   ]
  },
  {
   "cell_type": "code",
   "execution_count": 18,
   "metadata": {},
   "outputs": [
    {
     "name": "stdout",
     "output_type": "stream",
     "text": [
      "1 1.1 1.2 1.3 1.4 1.5 1.6 1.7 1.8 1.9 2.0 2.1 2.2 2.3 2.4 2.5 2.6 2.7 2.8 2.9 3.0 3.1 3.2 3.3 3.4 3.5 3.6 3.7 3.8 3.9 4.0 4.1 4.2 4.3 4.4 4.5 4.6 4.7 4.8 4.9 5.0 "
     ]
    }
   ],
   "source": [
    "def frange(start, end, step):\n",
    "    x=[]\n",
    "    while start < end:\n",
    "        x.append(round(start,2))\n",
    "        start+=step\n",
    "    return x\n",
    "\n",
    "for i in frange(1, 5, 0.1):\n",
    "    print(i, end=' ')"
   ]
  },
  {
   "cell_type": "raw",
   "metadata": {},
   "source": [
    "Напишите генератор get_frames(), который производит «оконную декомпозицию» сигнала: на основе входного списка генерирует набор списков – перекрывающихся отдельных фрагментов сигнала размера size со степенью перекрытия overlap. Пример вызова: for frame in get_frames(signal, size=1024, overlap=0.5): print(frame)"
   ]
  },
  {
   "cell_type": "code",
   "execution_count": 30,
   "metadata": {},
   "outputs": [
    {
     "name": "stdout",
     "output_type": "stream",
     "text": [
      "[1, 2, 3, 4, 5]\n",
      "[6, 7, 8, 9, 10]\n",
      "[1, 2, 3, 4, 5]\n",
      "[6, 7, 8, 9, 10]\n"
     ]
    }
   ],
   "source": [
    "def get_frames(size, overlap):\n",
    "    signal = [1, 2, 3, 4, 5, 6, 7, 8, 9, 10, 1, 2, 3, 4, 5, 6, 7, 8, 9, 10]\n",
    "    size = size * overlap\n",
    "    start = 0\n",
    "    end = int(size)\n",
    "\n",
    "    while end <= len(signal):\n",
    "        frame = signal[start:end]\n",
    "        yield frame\n",
    "        start += int(size)\n",
    "        end += int(size)\n",
    "        \n",
    "for frame in get_frames (size=10, overlap=0.5):\n",
    "        print(frame)"
   ]
  },
  {
   "cell_type": "raw",
   "metadata": {},
   "source": [
    "Напишите собственную версию генератора enumerate под названием extra_enumerate. Пример вызова: for i, elem, cum, frac in extra_enumerate(x): print(elem, cum, frac) В переменной cum хранится накопленная сумма на момент текущей итерации, в переменной frac – доля накопленной суммы от общей суммы на момент текущей итерации. Например, для списка x=[1,3,4,2] вывод будет таким: (1, 1, 0.1) (3, 4, 0.4) (4, 8, 0.8) (2, 10, 1)"
   ]
  },
  {
   "cell_type": "code",
   "execution_count": 32,
   "metadata": {},
   "outputs": [
    {
     "name": "stdout",
     "output_type": "stream",
     "text": [
      "(1, 1, 0.1) (3, 4, 0.4) (4, 8, 0.8) (2, 10, 1.0) "
     ]
    }
   ],
   "source": [
    "def extra_enumerate(list_):\n",
    "    cum = 0\n",
    "    for i, elem in enumerate(list_):\n",
    "        cum += elem\n",
    "        yield (i, elem, cum, round(cum/sum(list_), 2))\n",
    "\n",
    "for i, element, cum, frac in extra_enumerate([1, 3, 4, 2]):\n",
    "        print(f'({element}, {cum}, {frac})', end=\" \")"
   ]
  },
  {
   "cell_type": "markdown",
   "metadata": {},
   "source": [
    "Напишите декоратор non_empty, который дополнительно проверяет списковый результат любой функции: если в нем содержатся пустые строки или значение None, то они удаляются. Пример кода: @non_empty def get_pages(): return ['chapter1', '', 'contents', '', 'line1']"
   ]
  },
  {
   "cell_type": "code",
   "execution_count": 17,
   "metadata": {},
   "outputs": [
    {
     "name": "stdout",
     "output_type": "stream",
     "text": [
      "['chapter1', 'contents', 'line1']\n"
     ]
    }
   ],
   "source": [
    "def non_empty(func):\n",
    "    def wrapper():\n",
    "        return list(filter(lambda x: not x == '' and x is not None, func()))\n",
    "    return wrapper\n",
    "\n",
    "@non_empty\n",
    "def get_pages():\n",
    "    return ['chapter1', '', 'contents', '', 'line1', None]\n",
    "print(get_pages())"
   ]
  },
  {
   "cell_type": "markdown",
   "metadata": {},
   "source": [
    "Напишите параметризированный декоратор pre_process, который осуществляет предварительную обработку (цифровую фильтрацию) списка по алгоритму: s[i] = s[i]–a∙s[i–1]. Параметр а можно задать в коде (по умолчанию равен 0.97). Пример кода: @pre_process(a=0.93) def plot_signal(s): for sample in s: print(sample)"
   ]
  },
  {
   "cell_type": "code",
   "execution_count": 26,
   "metadata": {},
   "outputs": [
    {
     "name": "stdout",
     "output_type": "stream",
     "text": [
      "-3.65\n",
      "1.07\n",
      "1.14\n",
      "1.21\n",
      "1.28\n"
     ]
    }
   ],
   "source": [
    "def pre_process(a=0.97):\n",
    "    def decorator(func):\n",
    "        def wrapper(list):\n",
    "            res = []\n",
    "            for i in range(len(list)):\n",
    "                res.append(round(list[i] - a * list[i-1], 2))\n",
    "            func(res)\n",
    "        return wrapper\n",
    "    return decorator\n",
    "\n",
    "s = [1, 2, 3, 4, 5]\n",
    "\n",
    "@pre_process(0.93)\n",
    "def plot_signal(s):\n",
    "    for sample in s:\n",
    "        print(sample)\n",
    "plot_signal(s)"
   ]
  },
  {
   "cell_type": "markdown",
   "metadata": {},
   "source": [
    "Напишите скрипт, который на основе списка из 16 названий футбольных команд случайным образом формирует 4 группы по 4 команды, а также выводит на консоль календарь всех игр (игры должны проходить по средам, раз в 2 недели, начиная с 14 сентября текущего года). Даты игр необходимо выводить в формате «14/09/2016, 22:45». Используйте модули random и itertools"
   ]
  },
  {
   "cell_type": "code",
   "execution_count": 48,
   "metadata": {},
   "outputs": [
    {
     "name": "stdout",
     "output_type": "stream",
     "text": [
      "1 Группа:\n",
      "Манчестер Сити - Тоттенххэм : 14/09/2021,12:00\n",
      "Манчестер Сити - Динамо Киев : 28/09/2021,20:30\n",
      "Манчестер Сити - Ливерпуль : 12/10/2021,21:45\n",
      "Тоттенххэм - Динамо Киев : 26/10/2021,20:30\n",
      "Тоттенххэм - Ливерпуль : 09/11/2021,19:15\n",
      "Динамо Киев - Ливерпуль : 23/11/2021,21:30\n",
      "2 Группа:\n",
      "Арсенал - Интернационале : 07/12/2021,20:30\n",
      "Арсенал - Челси : 21/12/2021,20:30\n",
      "Арсенал - Реал Мадрид : 04/01/2022,21:00\n",
      "Интернационале - Челси : 18/01/2022,12:45\n",
      "Интернационале - Реал Мадрид : 01/02/2022,17:15\n",
      "Челси - Реал Мадрид : 15/02/2022,12:30\n",
      "3 Группа:\n",
      "Ювентус - Бавария : 01/03/2022,22:30\n",
      "Ювентус - Манчестер Юнайтед : 15/03/2022,19:00\n",
      "Ювентус - Атлетико : 29/03/2022,21:15\n",
      "Бавария - Манчестер Юнайтед : 12/04/2022,23:00\n",
      "Бавария - Атлетико : 26/04/2022,15:15\n",
      "Манчестер Юнайтед - Атлетико : 10/05/2022,22:45\n",
      "4 Группа:\n",
      "Шахтер Донецк - Милан : 24/05/2022,21:30\n",
      "Шахтер Донецк - Ливерпуль : 07/06/2022,22:00\n",
      "Шахтер Донецк - Барселона : 21/06/2022,20:30\n",
      "Милан - Ливерпуль : 05/07/2022,12:30\n",
      "Милан - Барселона : 19/07/2022,12:15\n",
      "Ливерпуль - Барселона : 02/08/2022,15:30\n"
     ]
    }
   ],
   "source": [
    "import datetime\n",
    "import random\n",
    "import itertools\n",
    "\n",
    "def schedule(list_):\n",
    "\n",
    "    random.shuffle(list_)\n",
    "\n",
    "    groups = [(list_[i] for i in range(4)), (list_[i] for i in range(4, 8)),\n",
    "              (list_[i] for i in range(8, 12)), (list_[i] for i in range(12, 16))]\n",
    "\n",
    "    date = datetime.date(2021, 9, 14)\n",
    "    time = datetime.time(12,0,0)\n",
    "    for i, teams in enumerate(groups):\n",
    "        print(f'{i + 1} Группа:')\n",
    "        for team in itertools.combinations(teams, 2):\n",
    "            print(' - '.join(team) + ' : ' + date.strftime('%d/%m/%Y')+','+time.strftime('%H:%M'))\n",
    "            date += datetime.timedelta(days=14)\n",
    "            time = datetime.time(random.randrange(12,24),random.randrange(0,60,15))\n",
    "schedule(['Шахтер Донецк', 'Динамо Киев', 'Барселона', 'Атлетико',\n",
    "                   'Манчестер Юнайтед', 'Интернационале', 'Ювентус', 'Челси',\n",
    "                   'Реал Мадрид', 'Ливерпуль', 'Арсенал', 'Тоттенххэм',\n",
    "                   'Манчестер Сити', 'Бавария', 'Милан', 'Ливерпуль'])"
   ]
  }
 ],
 "metadata": {
  "kernelspec": {
   "display_name": "Python 3",
   "language": "python",
   "name": "python3"
  },
  "language_info": {
   "codemirror_mode": {
    "name": "ipython",
    "version": 3
   },
   "file_extension": ".py",
   "mimetype": "text/x-python",
   "name": "python",
   "nbconvert_exporter": "python",
   "pygments_lexer": "ipython3",
   "version": "3.8.5"
  }
 },
 "nbformat": 4,
 "nbformat_minor": 4
}
